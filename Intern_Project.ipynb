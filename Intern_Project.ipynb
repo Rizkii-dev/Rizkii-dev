{
  "nbformat": 4,
  "nbformat_minor": 0,
  "metadata": {
    "colab": {
      "name": "Intern Project.ipynb",
      "provenance": [],
      "collapsed_sections": [],
      "toc_visible": true,
      "include_colab_link": true
    },
    "kernelspec": {
      "name": "python3",
      "display_name": "Python 3"
    },
    "language_info": {
      "name": "python"
    }
  },
  "cells": [
    {
      "cell_type": "markdown",
      "metadata": {
        "id": "view-in-github",
        "colab_type": "text"
      },
      "source": [
        "<a href=\"https://colab.research.google.com/github/Rizkii-dev/Rizkii-dev/blob/main/Intern_Project.ipynb\" target=\"_parent\"><img src=\"https://colab.research.google.com/assets/colab-badge.svg\" alt=\"Open In Colab\"/></a>"
      ]
    },
    {
      "cell_type": "code",
      "execution_count": null,
      "metadata": {
        "id": "g2vVVSXt1-q7"
      },
      "outputs": [],
      "source": [
        "#@title Importing Library\n",
        "from IPython.display import clear_output\n",
        "\n",
        "import requests\n",
        "import time\n",
        "import json\n",
        "import os\n",
        "import pprint\n",
        "\n",
        "clear_output()"
      ]
    },
    {
      "cell_type": "code",
      "source": [
        "#@title Declare URLs\n",
        "BASE_URL = \"https://eks.edukasystem.com/v2\"\n",
        "URL_ACCOUNT_SERVICE = f\"{BASE_URL}/account\"\n",
        "URL_ENROLLMENT_SERVICE = f\"{BASE_URL}/enrollment\"\n",
        "URL_EVENT_SERVICE = f\"{BASE_URL}/event\"\n",
        "URL_GENERAL_SERVICE = f\"{BASE_URL}/general\"\n",
        "URL_STATISTIC_SERVICE = f\"{BASE_URL}/statistic\""
      ],
      "metadata": {
        "id": "Z0nJUjNe3UWg"
      },
      "execution_count": null,
      "outputs": []
    },
    {
      "cell_type": "code",
      "source": [
        "#@title Declare API headers\n",
        "headers = {\n",
        "  \"Authorization\": \"APIKEY very.secret\",\n",
        "  \"Client-Id\": \"1\",\n",
        "  \"Client-Type\": \"admin\",\n",
        "  \"Client-Role-Type\": \"internal\"\n",
        "}"
      ],
      "metadata": {
        "id": "VVqDBtQl37ds"
      },
      "execution_count": null,
      "outputs": []
    },
    {
      "cell_type": "markdown",
      "source": [
        "# Declare Functions"
      ],
      "metadata": {
        "id": "3R8GSczaAXvs"
      }
    },
    {
      "cell_type": "markdown",
      "source": [
        "## getUsers\n",
        "Returns users' data based on given parameters.\n",
        "* `ids_user: list`\n",
        "\n",
        "  List of user ids\n",
        "\n",
        "* `created_after: int`\n",
        "\n",
        "  UNIX timestamp milliseconds to get users' created accounts since `created_after`.\n",
        "  For more info about UNIX timestamp, visit https://www.unixtimestamp.com.\n",
        "\n",
        "  Example: 1 July 2022, 00:00:00 = `1656608400000`\n",
        "\n",
        "* `created_before: int`\n",
        "\n",
        "  UNIX timestamp milliseconds to get users' created accounts before `created_before`.\n",
        "  For more info about UNIX timestamp, visit https://www.unixtimestamp.com.\n",
        "\n",
        "  Example: 1 July 2022, 00:00:00 = `1656608400000`\n",
        "\n",
        "* `search_key: str`\n",
        "\n",
        "  Query string to search users by username or email\n",
        "\n",
        "* `page: int`\n",
        "\n",
        "  Page index. Default: `1`\n",
        "\n",
        "* `page_size: int`\n",
        "\n",
        "  Page size. Default: `10`\n",
        "\n",
        "* `sort_by: str`\n",
        "\n",
        "  Sort key. Default: `id_user`\n",
        "\n",
        "* `order: str`\n",
        "\n",
        "  Ordering (asc/desc). Default `desc`"
      ],
      "metadata": {
        "id": "QGrGFS0CAgry"
      }
    },
    {
      "cell_type": "code",
      "source": [
        "def getUsers(\n",
        "  ids_user: list = None,\n",
        "  created_after: int = None,\n",
        "  created_before: int = None,\n",
        "  search_key: str = '',\n",
        "  page: int = 1,\n",
        "  page_size: int = 10,\n",
        "  sort_by: str = 'id_user',\n",
        "  order: str = 'desc'\n",
        ") :\n",
        "  \"\"\"\n",
        "    Returns users' data based on given parameters.\n",
        "\n",
        "    @param ids_user: List of user ids\n",
        "    @param created_after: UNIX timestamp milliseconds to get users' created accounts since `created_after`.\\\n",
        "    For more info about UNIX timestamp, visit https://www.unixtimestamp.com\\\n",
        "    Example: 1 July 2022, 00:00:00 = 1656608400000\n",
        "    @param created_before: UNIX timestamp milliseconds to get users' created accounts before `created_before`.\\\n",
        "    For more info about UNIX timestamp, visit https://www.unixtimestamp.com\\\n",
        "    Example: 1 July 2022, 00:00:00 = 1656608400000\n",
        "    @param search_key: Query string to search users by username or email\n",
        "    @param page: Page index. Default = 1\n",
        "    @param page_size: Page size. Default = 10\n",
        "    @param sort_by: Sort key. Default = `'id_user'`\n",
        "    @param order: Ordering (asc/desc). Default `'desc'`\n",
        "  \"\"\"\n",
        "  params = {\n",
        "    \"page\": page,\n",
        "    \"pageSize\": page_size,\n",
        "    \"sortBy\": sort_by,\n",
        "    \"order\": order\n",
        "  }\n",
        "\n",
        "  if ids_user is not None :\n",
        "    ids_user = ','.join(str(id_user) for id_user in ids_user)\n",
        "    params[\"ids\"] = ids_user\n",
        "\n",
        "  if created_after is not None :\n",
        "    params[\"created_after\"] = created_after\n",
        "\n",
        "  if created_before is not None :\n",
        "    params[\"created_before\"] = created_before\n",
        "\n",
        "  if search_key != '' :\n",
        "    params[\"searchKey\"] = search_key\n",
        "\n",
        "  res = requests.get(\n",
        "    f\"{URL_ACCOUNT_SERVICE}/user\",\n",
        "    params=params,\n",
        "    headers=headers\n",
        "  ).json()\n",
        "  return res"
      ],
      "metadata": {
        "id": "HA7CduyG2dWQ"
      },
      "execution_count": 1,
      "outputs": []
    },
    {
      "cell_type": "markdown",
      "source": [
        "## getUserDetails\n",
        "Returns user accounts' details, such as user's firstname, lastname, city, province, etc., based on given parameters.\n",
        "* `ids_user: list`\n",
        "\n",
        "  List of user ids\n",
        "\n",
        "* `search_key: str`\n",
        "\n",
        "  Query string to search user details by firstname or lastname\n",
        "\n",
        "* `page: int`\n",
        "\n",
        "  Page index. Default: `1`\n",
        "\n",
        "* `page_size: int`\n",
        "\n",
        "  Page size. Default: `10`\n",
        "\n",
        "* `sort_by: str`\n",
        "\n",
        "  Sort key. Default: `id_user`\n",
        "\n",
        "* `order: str`\n",
        "\n",
        "  Ordering (asc/desc). Default `desc`"
      ],
      "metadata": {
        "id": "IRe4z4oyCDju"
      }
    },
    {
      "cell_type": "code",
      "source": [
        "def getUserDetails(\n",
        "  ids_user: list = None,\n",
        "  search_key: str = '',\n",
        "  page: int = 1,\n",
        "  page_size: int = 10,\n",
        "  sort_by: str = 'id_user',\n",
        "  order: str = 'desc'\n",
        ") :\n",
        "  \"\"\"\n",
        "    Returns user accounts' details, such as user's firstname, lastname, city, province, etc., based on given parameters.\n",
        "\n",
        "    @param ids_user: List of user ids\n",
        "    @param search_key: Query string to search users by firstname or lastname\n",
        "    @param page: Page index. Default = 1\n",
        "    @param page_size: Page size. Default = 10\n",
        "    @param sort_by: Sort key. Default = `'id_user'`\n",
        "    @param order: Ordering (asc/desc). Default `'desc'`\n",
        "  \"\"\"\n",
        "  params = {\n",
        "    \"page\": page,\n",
        "    \"pageSize\": page_size,\n",
        "    \"sortBy\": sort_by,\n",
        "    \"order\": order\n",
        "  }\n",
        "\n",
        "  if ids_user is not None :\n",
        "    ids_user = ','.join(str(id_user) for id_user in ids_user)\n",
        "    params[\"ids\"] = ids_user\n",
        "\n",
        "  if search_key != '' :\n",
        "    params[\"searchKey\"] = search_key\n",
        "\n",
        "  res =  requests.get(\n",
        "    f\"{URL_ACCOUNT_SERVICE}/user/details\",\n",
        "    params=params,\n",
        "    headers=headers\n",
        "  ).json()\n",
        "  return res"
      ],
      "metadata": {
        "id": "3EriZKQJCBx7"
      },
      "execution_count": null,
      "outputs": []
    },
    {
      "cell_type": "markdown",
      "source": [
        "## getEvents\n",
        "Returns events data based on given parameters.\n",
        "* `ids_event: list`\n",
        "\n",
        "  List of event ids\n",
        "\n",
        "* `page: int`\n",
        "\n",
        "  Page index. Default: `1`\n",
        "\n",
        "* `page_size: int`\n",
        "\n",
        "  Page size. Default: `10`\n",
        "\n",
        "* `sort_by: str`\n",
        "\n",
        "  Sort key. Default: `end_date`\n",
        "\n",
        "* `order: str`\n",
        "\n",
        "  Ordering (asc/desc). Default `desc`"
      ],
      "metadata": {
        "id": "VibsUKaxHVdh"
      }
    },
    {
      "cell_type": "code",
      "source": [
        "def getEvents(\n",
        "  ids_event: list = None,\n",
        "  page: int = 1,\n",
        "  page_size: int = 10,\n",
        "  sort_by: str = 'end_date',\n",
        "  order: str = 'desc'\n",
        ") :\n",
        "  \"\"\"\n",
        "    Returns events data based on given parameters.\n",
        "\n",
        "    @param ids_event: List of event ids\n",
        "    @param page: Page index. Default = 1\n",
        "    @param page_size: Page size. Default = 10\n",
        "    @param sort_by: Sort key. Default = `'end_date'`\n",
        "    @param order: Ordering (asc/desc). Default `'desc'`\n",
        "  \"\"\"\n",
        "  params = {\n",
        "    \"page\": page,\n",
        "    \"pageSize\": page_size,\n",
        "    \"sortBy\": sort_by,\n",
        "    \"order\": order\n",
        "  }\n",
        "\n",
        "  if ids_event is not None :\n",
        "    ids_event = ','.join(str(id_event) for id_event in ids_event)\n",
        "    params[\"ids\"] = ids_event\n",
        "  \n",
        "  res = requests.get(\n",
        "    f\"{URL_EVENT_SERVICE}\",\n",
        "    params=params,\n",
        "    headers=headers\n",
        "  ).json()\n",
        "  return res"
      ],
      "metadata": {
        "id": "E-DyO0VvHv8a"
      },
      "execution_count": null,
      "outputs": []
    },
    {
      "cell_type": "markdown",
      "source": [
        "## getEventEnrollments\n",
        "Returns event enrollments data based on given parameters.\n",
        "* `ids_enrollment: list`\n",
        "\n",
        "  List of enrollment ids\n",
        "\n",
        "* `status: str`\n",
        "\n",
        "  Event enrollment status:\n",
        "  - `'premium'`\n",
        "  - `'free'`\n",
        "\n",
        "* `page: int`\n",
        "\n",
        "  Page index. Default: `1`\n",
        "\n",
        "* `page_size: int`\n",
        "\n",
        "  Page size. Default: `10`"
      ],
      "metadata": {
        "id": "2TrFylcC8PIp"
      }
    },
    {
      "cell_type": "code",
      "source": [
        "def getEventEnrollments(\n",
        "  ids_enrollment: list = None,\n",
        "  status: str = '',\n",
        "  page: int = 1,\n",
        "  page_size: int = 10\n",
        ") :\n",
        "  \"\"\"\n",
        "    Returns event enrollments data based on given parameters.\n",
        "\n",
        "    @param ids_enrollment: List of enrollment ids\n",
        "    @param status: Event enrollment status (premium, free)\n",
        "    @param page: Page index. Default = 1\n",
        "    @param page_size: Page size. Default = 10\n",
        "  \"\"\"\n",
        "  params = {\n",
        "    \"page\": page,\n",
        "    \"pageSize\": page_size\n",
        "  }\n",
        "\n",
        "  if ids_enrollment is not None :\n",
        "    ids_enrollment = ','.join(str(id_enrollment) for id_enrollment in ids_enrollment)\n",
        "    params[\"ids\"] = ids_enrollment\n",
        "  \n",
        "  if status != '' :\n",
        "    params[\"status\"] = status\n",
        "  \n",
        "  res = requests.get(\n",
        "    f\"{URL_ENROLLMENT_SERVICE}/event\",\n",
        "    params=params,\n",
        "    headers=headers\n",
        "  ).json()\n",
        "  return res"
      ],
      "metadata": {
        "id": "PuFtzTOiKoS7"
      },
      "execution_count": null,
      "outputs": []
    },
    {
      "cell_type": "markdown",
      "source": [
        "## getEventEnrollmentsByEventId\n",
        "Returns event enrollments data based on event id and other parameters.\n",
        "* `id_event: int`\n",
        "\n",
        "  Event id\n",
        "\n",
        "* `status: str`\n",
        "\n",
        "  Event enrollment status:\n",
        "  - `'premium'`\n",
        "  - `'free'`\n",
        "\n",
        "* `page: int`\n",
        "\n",
        "  Page index. Default: `1`\n",
        "\n",
        "* `page_size: int`\n",
        "\n",
        "  Page size. Default: `10`"
      ],
      "metadata": {
        "id": "2sBLJ90zLk27"
      }
    },
    {
      "cell_type": "code",
      "source": [
        "def getEventEnrollmentsByEventId(\n",
        "  id_event: int = None,\n",
        "  status: str = '',\n",
        "  page: int = 1,\n",
        "  page_size: int = 10\n",
        ") :\n",
        "  \"\"\"\n",
        "    Returns event enrollments data based on event id and other parameters.\n",
        "\n",
        "    @param id_event: Event id\n",
        "    @param status: Event enrollment status (premium, free)\n",
        "    @param page: Page index. Default = 1\n",
        "    @param page_size: Page size. Default = 10\n",
        "  \"\"\"\n",
        "  params = {\n",
        "    \"page\": page,\n",
        "    \"pageSize\": page_size\n",
        "  }\n",
        "\n",
        "  if id_event is None and not isinstance(id_event, int) :\n",
        "    raise \"id_event should be an integer\"\n",
        "  \n",
        "  if status != '' :\n",
        "    params[\"status\"] = status\n",
        "  \n",
        "  res = requests.get(\n",
        "    f\"{URL_ENROLLMENT_SERVICE}/event/{id_event}\",\n",
        "    params=params,\n",
        "    headers=headers\n",
        "  ).json()\n",
        "  return res"
      ],
      "metadata": {
        "id": "kMD2AWT9Lzbs"
      },
      "execution_count": null,
      "outputs": []
    },
    {
      "cell_type": "markdown",
      "source": [
        "## getEventStatistic\n",
        "Returns event session statistic for every subject based on given parameters.\n",
        "* `ids_event: list`\n",
        "\n",
        "  List of event ids"
      ],
      "metadata": {
        "id": "a0I9QSlwNvVT"
      }
    },
    {
      "cell_type": "code",
      "source": [
        "def getEventStatistic(\n",
        "  ids_event: list = None\n",
        ") :\n",
        "  \"\"\"\n",
        "    Returns event session statistic for every subject based on given parameters.\n",
        "\n",
        "    @param ids_event: List of event ids\n",
        "  \"\"\"\n",
        "  params = {}\n",
        "\n",
        "  if ids_event is not None :\n",
        "    ids_event = ','.join(str(id_event) for id_event in ids_event)\n",
        "    params[\"ids\"] = ids_event\n",
        "  \n",
        "  res = requests.get(\n",
        "    f\"{URL_STATISTIC_SERVICE}/tryout\",\n",
        "    params=params,\n",
        "    headers=headers\n",
        "  ).json()\n",
        "  return res"
      ],
      "metadata": {
        "id": "21bw1o9HPbTL"
      },
      "execution_count": null,
      "outputs": []
    },
    {
      "cell_type": "markdown",
      "source": [
        "\n",
        "# Function Call and Response Examples"
      ],
      "metadata": {
        "id": "HefbxK3b8BGU"
      }
    },
    {
      "cell_type": "code",
      "source": [
        "#@title getUsers\n",
        "# Get first 3 users' created accounts since 1 July 2022, 00:00:00\n",
        "getUsers(\n",
        "  created_after=1656608400000,\n",
        "  page=1,\n",
        "  page_size=3\n",
        ")"
      ],
      "metadata": {
        "id": "yQCEZi-G23Ae",
        "colab": {
          "base_uri": "https://localhost:8080/"
        },
        "outputId": "186a5985-a5ec-48d3-c8ec-1dbcf97adf2f"
      },
      "execution_count": null,
      "outputs": [
        {
          "output_type": "execute_result",
          "data": {
            "text/plain": [
              "{'data': [{'created_at': 1657010933390,\n",
              "   'id_user': 2690270,\n",
              "   'is_active': 1,\n",
              "   'is_sobat': 0,\n",
              "   'updated_at': 1657011004969,\n",
              "   'user_email': 'ameliasela054@gmail.com',\n",
              "   'username': 'ameliasela054950'},\n",
              "  {'created_at': 1657010755388,\n",
              "   'id_user': 2690269,\n",
              "   'is_active': 1,\n",
              "   'is_sobat': 0,\n",
              "   'updated_at': 1657010941686,\n",
              "   'user_email': 'sanianur278@gmail.com',\n",
              "   'username': 'sanianur278958'},\n",
              "  {'created_at': 1657009022414,\n",
              "   'id_user': 2690268,\n",
              "   'is_active': 1,\n",
              "   'is_sobat': 0,\n",
              "   'updated_at': 1657009022434,\n",
              "   'user_email': 'paruda.pradayan05@gmail.com',\n",
              "   'username': 'paruda.pradayan05949'}],\n",
              " 'last_page': 276,\n",
              " 'total_items': 827}"
            ]
          },
          "metadata": {},
          "execution_count": 10
        }
      ]
    },
    {
      "cell_type": "code",
      "source": [
        "#@title getUserDetails\n",
        "# Get user accounts' details with user ids [5,5279,2547969]\n",
        "getUserDetails(\n",
        "  ids_user=[5,5279,2547969]\n",
        ")"
      ],
      "metadata": {
        "colab": {
          "base_uri": "https://localhost:8080/"
        },
        "id": "RE5be9-A8sZy",
        "outputId": "5af32ef0-2c45-4c4a-b167-033c6e0a564e"
      },
      "execution_count": null,
      "outputs": [
        {
          "output_type": "execute_result",
          "data": {
            "text/plain": [
              "{'data': [{'age': 52,\n",
              "   'birthday': 0,\n",
              "   'city': 'KOTA BANDUNG',\n",
              "   'class': '',\n",
              "   'firstname': 'Ahmad',\n",
              "   'id_city': 344,\n",
              "   'id_province': 23,\n",
              "   'id_school': 20223044,\n",
              "   'id_user': 5,\n",
              "   'lastname': 'Faiz Sahupala',\n",
              "   'major': '',\n",
              "   'organization': '',\n",
              "   'phone_number': '081280367208',\n",
              "   'province': 'JAWA BARAT',\n",
              "   'school': 'SMAN 5 BEKASI',\n",
              "   'university': '',\n",
              "   'updated_at': 1603889043433,\n",
              "   'year_out': '2018'},\n",
              "  {'age': 52,\n",
              "   'birthday': 0,\n",
              "   'city': 'KABUPATEN GIANYAR',\n",
              "   'class': '',\n",
              "   'firstname': 'Muh',\n",
              "   'id_city': 248,\n",
              "   'id_province': 18,\n",
              "   'id_school': 20606838,\n",
              "   'id_user': 5279,\n",
              "   'lastname': 'Habibi Haidir',\n",
              "   'major': '',\n",
              "   'organization': '',\n",
              "   'phone_number': '0812435432563',\n",
              "   'province': 'BALI',\n",
              "   'school': 'SMAS PRIBADI 2',\n",
              "   'university': '',\n",
              "   'updated_at': 1603100814252,\n",
              "   'year_out': '2018'},\n",
              "  {'age': 52,\n",
              "   'birthday': 0,\n",
              "   'city': 'KOTA SURABAYA',\n",
              "   'class': '0',\n",
              "   'firstname': 'Ahmad',\n",
              "   'id_city': 261,\n",
              "   'id_province': 20,\n",
              "   'id_school': 69984571,\n",
              "   'id_user': 2547969,\n",
              "   'lastname': 'Naufal Hakim ',\n",
              "   'major': '',\n",
              "   'organization': '',\n",
              "   'phone_number': '081933463466',\n",
              "   'province': 'JAWA TIMUR',\n",
              "   'school': 'SMA AL-HIKMAH',\n",
              "   'university': '',\n",
              "   'updated_at': 1650964055603,\n",
              "   'year_out': '2017'}],\n",
              " 'last_page': 1,\n",
              " 'total_items': 3}"
            ]
          },
          "metadata": {},
          "execution_count": 11
        }
      ]
    },
    {
      "cell_type": "code",
      "source": [
        "#@title getEvents\n",
        "# Get events' data with id_event 378 and 379\n",
        "getEvents(\n",
        "  ids_event=[378,379]\n",
        ")"
      ],
      "metadata": {
        "colab": {
          "base_uri": "https://localhost:8080/"
        },
        "id": "NlZ3PUqDREdj",
        "outputId": "0ac25190-b4df-47c4-e838-d8ff97930c83"
      },
      "execution_count": null,
      "outputs": [
        {
          "output_type": "execute_result",
          "data": {
            "text/plain": [
              "{'data': [{'end_date': 1624985999000,\n",
              "   'end_free_registration_at': 0,\n",
              "   'event_description': 'Tryout yang disediakan oleh tim Eduka. Tryout UM UGM (UTUL) ini berdasarkan naskah asli UM UGM (UTUL) tahun 2019. Tryout ini berisi 2 sesi, yaitu Tes Kemampuan Dasar Umum (TKDU) dan Tes Kemampuan Soshum (TKSo). *DISCLAIMER: Eduka System tidak menjual Soal UM UGM (UTUL) dan soal UM UGM (UTUL) sepenuhnya milik UGM. Eduka System menyedikan pembahasan, platform pengerjaan, LIVE CLASS dan Study Plan UM UGM (UTUL).',\n",
              "   'event_name': 'Tryout UM UGM (UTUL) 2019 - Soshum',\n",
              "   'free_end_date': 1624985999000,\n",
              "   'grading_type': 'minus false',\n",
              "   'id_admin': 14,\n",
              "   'id_event': 379,\n",
              "   'id_major': 2,\n",
              "   'is_paid': 1,\n",
              "   'is_published': 1,\n",
              "   'major': 'SOSHUM',\n",
              "   'max_duration': 13500000,\n",
              "   'open_ranking_date': 0,\n",
              "   'open_solution_date': 1622534400000,\n",
              "   'organizer': 'Eduka System',\n",
              "   'start_date': 1622534400000,\n",
              "   'start_free_registration_at': 1622448000000,\n",
              "   'type': 'mandiri'},\n",
              "  {'end_date': 1624985999000,\n",
              "   'end_free_registration_at': 0,\n",
              "   'event_description': 'Tryout yang disediakan oleh tim Eduka. Tryout UM UGM (UTUL) ini berdasarkan naskah asli UM UGM (UTUL) tahun 2019. Tryout ini berisi 2 sesi, yaitu Tes Kemampuan Dasar Umum (TKDU) dan Tes Kemampuan Saintek (TKSa). *DISCLAIMER: Eduka System tidak menjual Soal UM UGM (UTUL) dan soal UM UGM (UTUL) sepenuhnya milik UGM. Eduka System menyedikan pembahasan, platform pengerjaan, LIVE CLASS dan Study Plan UM UGM (UTUL).',\n",
              "   'event_name': 'Tryout UM UGM (UTUL) 2019 - Saintek',\n",
              "   'free_end_date': 1624985999000,\n",
              "   'grading_type': 'minus false',\n",
              "   'id_admin': 14,\n",
              "   'id_event': 378,\n",
              "   'id_major': 1,\n",
              "   'is_paid': 1,\n",
              "   'is_published': 1,\n",
              "   'major': 'SAINTEK',\n",
              "   'max_duration': 17100000,\n",
              "   'open_ranking_date': 0,\n",
              "   'open_solution_date': 1622534400000,\n",
              "   'organizer': 'Eduka System',\n",
              "   'start_date': 1622534400000,\n",
              "   'start_free_registration_at': 1622448000000,\n",
              "   'type': 'mandiri'}],\n",
              " 'last_page': 1,\n",
              " 'total_items': 2}"
            ]
          },
          "metadata": {},
          "execution_count": 12
        }
      ]
    },
    {
      "cell_type": "code",
      "source": [
        "#@title getEventEnrollments\n",
        "# Get first 5 event enrollments with preimum status\n",
        "getEventEnrollments(\n",
        "  status=\"premium\",\n",
        "  page=1,\n",
        "  page_size=5\n",
        ")"
      ],
      "metadata": {
        "colab": {
          "base_uri": "https://localhost:8080/"
        },
        "id": "TNQqd0JbRbO7",
        "outputId": "6ca87915-71d2-4d33-cc63-b75ddd3e7d3e"
      },
      "execution_count": null,
      "outputs": [
        {
          "output_type": "execute_result",
          "data": {
            "text/plain": [
              "{'data': [{'created_at': 1657008770408,\n",
              "   'id_enrollment': 1964681,\n",
              "   'id_event': 544,\n",
              "   'id_user': 2547614,\n",
              "   'status': 'premium'},\n",
              "  {'created_at': 1657004440309,\n",
              "   'id_enrollment': 1964680,\n",
              "   'id_event': 449,\n",
              "   'id_user': 2689955,\n",
              "   'status': 'premium'},\n",
              "  {'created_at': 1657004440309,\n",
              "   'id_enrollment': 1964679,\n",
              "   'id_event': 450,\n",
              "   'id_user': 2689955,\n",
              "   'status': 'premium'},\n",
              "  {'created_at': 1657004440309,\n",
              "   'id_enrollment': 1964678,\n",
              "   'id_event': 451,\n",
              "   'id_user': 2689955,\n",
              "   'status': 'premium'},\n",
              "  {'created_at': 1657004440309,\n",
              "   'id_enrollment': 1964677,\n",
              "   'id_event': 443,\n",
              "   'id_user': 2689955,\n",
              "   'status': 'premium'}],\n",
              " 'last_page': 176686,\n",
              " 'total_items': 883430}"
            ]
          },
          "metadata": {},
          "execution_count": 13
        }
      ]
    },
    {
      "cell_type": "code",
      "source": [
        "#@title getEventEnrollmentsByEventId\n",
        "# Get first 5 premium enrollments of event with id_event 378\n",
        "getEventEnrollmentsByEventId(\n",
        "  id_event=378,\n",
        "  status=\"premium\",\n",
        "  page=1,\n",
        "  page_size=5\n",
        ")"
      ],
      "metadata": {
        "colab": {
          "base_uri": "https://localhost:8080/"
        },
        "id": "1X8D1sZ1Ruwl",
        "outputId": "40164c9a-2b68-4ca9-c940-1c4e12da1d7e"
      },
      "execution_count": null,
      "outputs": [
        {
          "output_type": "execute_result",
          "data": {
            "text/plain": [
              "{'data': {'data': [{'created_at': 1622530723462,\n",
              "    'id_enrollment': 1655528,\n",
              "    'id_user': 1754581,\n",
              "    'status': 'premium'},\n",
              "   {'created_at': 1622531832586,\n",
              "    'id_enrollment': 1655536,\n",
              "    'id_user': 1551372,\n",
              "    'status': 'premium'},\n",
              "   {'created_at': 1622533622969,\n",
              "    'id_enrollment': 1655550,\n",
              "    'id_user': 1755165,\n",
              "    'status': 'premium'},\n",
              "   {'created_at': 1622534725649,\n",
              "    'id_enrollment': 1655554,\n",
              "    'id_user': 1922845,\n",
              "    'status': 'premium'},\n",
              "   {'created_at': 1622534742887,\n",
              "    'id_enrollment': 1655558,\n",
              "    'id_user': 1559821,\n",
              "    'status': 'premium'}],\n",
              "  'last_page': 299,\n",
              "  'total_items': 1494}}"
            ]
          },
          "metadata": {},
          "execution_count": 14
        }
      ]
    },
    {
      "cell_type": "code",
      "source": [
        "#@title getEventStatistic\n",
        "# Get event statistic of event id 378\n",
        "getEventStatistic(\n",
        "  ids_event=[378]\n",
        ")"
      ],
      "metadata": {
        "colab": {
          "base_uri": "https://localhost:8080/"
        },
        "id": "9t9Sj7zOSQrV",
        "outputId": "12de83f5-599a-47d4-ea38-48c745f25aab"
      },
      "execution_count": null,
      "outputs": [
        {
          "output_type": "execute_result",
          "data": {
            "text/plain": [
              "{'data': {'SAINTEK': {'Bahasa Indonesia': [{'average_score': 28.621359,\n",
              "     'event_name': 'Tryout UM UGM (UTUL) 2019 - Saintek',\n",
              "     'id_event': 378,\n",
              "     'id_session': 2328,\n",
              "     'maximum_score': 75,\n",
              "     'minimum_score': -15,\n",
              "     'total_participants': 412}],\n",
              "   'Bahasa Inggris': [{'average_score': 17,\n",
              "     'event_name': 'Tryout UM UGM (UTUL) 2019 - Saintek',\n",
              "     'id_event': 378,\n",
              "     'id_session': 2329,\n",
              "     'maximum_score': 65,\n",
              "     'minimum_score': -15,\n",
              "     'total_participants': 412}],\n",
              "   'Biologi': [{'average_score': 12.70631,\n",
              "     'event_name': 'Tryout UM UGM (UTUL) 2019 - Saintek',\n",
              "     'id_event': 378,\n",
              "     'id_session': 2333,\n",
              "     'maximum_score': 57,\n",
              "     'minimum_score': -19,\n",
              "     'total_participants': 412}],\n",
              "   'Fisika': [{'average_score': 8.101942,\n",
              "     'event_name': 'Tryout UM UGM (UTUL) 2019 - Saintek',\n",
              "     'id_event': 378,\n",
              "     'id_session': 2331,\n",
              "     'maximum_score': 75,\n",
              "     'minimum_score': -20,\n",
              "     'total_participants': 412}],\n",
              "   'Kimia': [{'average_score': 10.072816,\n",
              "     'event_name': 'Tryout UM UGM (UTUL) 2019 - Saintek',\n",
              "     'id_event': 378,\n",
              "     'id_session': 2332,\n",
              "     'maximum_score': 72,\n",
              "     'minimum_score': -15,\n",
              "     'total_participants': 412}],\n",
              "   'Matematika Dasar': [{'average_score': 14.592233,\n",
              "     'event_name': 'Tryout UM UGM (UTUL) 2019 - Saintek',\n",
              "     'id_event': 378,\n",
              "     'id_session': 2327,\n",
              "     'maximum_score': 80,\n",
              "     'minimum_score': -10,\n",
              "     'total_participants': 412}],\n",
              "   'Matematika IPA': [{'average_score': 7.5849514,\n",
              "     'event_name': 'Tryout UM UGM (UTUL) 2019 - Saintek',\n",
              "     'id_event': 378,\n",
              "     'id_session': 2330,\n",
              "     'maximum_score': 60,\n",
              "     'minimum_score': -15,\n",
              "     'total_participants': 412}],\n",
              "   'all': [{'average_score': 14.097087,\n",
              "     'event_name': 'Tryout UM UGM (UTUL) 2019 - Saintek',\n",
              "     'id_event': 378,\n",
              "     'maximum_score': 80,\n",
              "     'minimum_score': -20,\n",
              "     'total_participants': 412}]}}}"
            ]
          },
          "metadata": {},
          "execution_count": 15
        }
      ]
    },
    {
      "cell_type": "markdown",
      "source": [
        "# Workspace"
      ],
      "metadata": {
        "id": "9NKtZbUCSteF"
      }
    },
    {
      "cell_type": "markdown",
      "source": [
        "## get all user"
      ],
      "metadata": {
        "id": "JFawrIngsHdm"
      }
    },
    {
      "cell_type": "code",
      "source": [
        ""
      ],
      "metadata": {
        "id": "1RPV_zdeSyMU"
      },
      "execution_count": null,
      "outputs": []
    }
  ]
}